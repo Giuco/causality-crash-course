{
 "cells": [
  {
   "cell_type": "code",
   "execution_count": 59,
   "id": "7fdb6188-1cf5-459a-adb3-2381e219fae3",
   "metadata": {},
   "outputs": [],
   "source": [
    "from typing import List\n",
    "\n",
    "import pandas as pd\n",
    "import statsmodels.api as sm\n",
    "from scipy.stats import ttest_rel"
   ]
  },
  {
   "cell_type": "code",
   "execution_count": 61,
   "id": "b5010711-2539-4319-b85b-d40625de1ee7",
   "metadata": {},
   "outputs": [],
   "source": [
    "df = pd.read_csv(\"../data/lalonde_data.csv\")"
   ]
  },
  {
   "cell_type": "code",
   "execution_count": 62,
   "id": "207d52ff-cff1-41a1-9cc0-1ab3f333235f",
   "metadata": {},
   "outputs": [
    {
     "data": {
      "text/html": [
       "<div>\n",
       "<style scoped>\n",
       "    .dataframe tbody tr th:only-of-type {\n",
       "        vertical-align: middle;\n",
       "    }\n",
       "\n",
       "    .dataframe tbody tr th {\n",
       "        vertical-align: top;\n",
       "    }\n",
       "\n",
       "    .dataframe thead th {\n",
       "        text-align: right;\n",
       "    }\n",
       "</style>\n",
       "<table border=\"1\" class=\"dataframe\">\n",
       "  <thead>\n",
       "    <tr style=\"text-align: right;\">\n",
       "      <th></th>\n",
       "      <th>ID</th>\n",
       "      <th>treat</th>\n",
       "      <th>age</th>\n",
       "      <th>educ</th>\n",
       "      <th>black</th>\n",
       "      <th>hispan</th>\n",
       "      <th>married</th>\n",
       "      <th>nodegree</th>\n",
       "      <th>re74</th>\n",
       "      <th>re75</th>\n",
       "      <th>re78</th>\n",
       "    </tr>\n",
       "  </thead>\n",
       "  <tbody>\n",
       "    <tr>\n",
       "      <th>0</th>\n",
       "      <td>NSW1</td>\n",
       "      <td>1</td>\n",
       "      <td>37</td>\n",
       "      <td>11</td>\n",
       "      <td>1</td>\n",
       "      <td>0</td>\n",
       "      <td>1</td>\n",
       "      <td>1</td>\n",
       "      <td>0.0</td>\n",
       "      <td>0.0</td>\n",
       "      <td>9930.0460</td>\n",
       "    </tr>\n",
       "    <tr>\n",
       "      <th>1</th>\n",
       "      <td>NSW2</td>\n",
       "      <td>1</td>\n",
       "      <td>22</td>\n",
       "      <td>9</td>\n",
       "      <td>0</td>\n",
       "      <td>1</td>\n",
       "      <td>0</td>\n",
       "      <td>1</td>\n",
       "      <td>0.0</td>\n",
       "      <td>0.0</td>\n",
       "      <td>3595.8940</td>\n",
       "    </tr>\n",
       "    <tr>\n",
       "      <th>2</th>\n",
       "      <td>NSW3</td>\n",
       "      <td>1</td>\n",
       "      <td>30</td>\n",
       "      <td>12</td>\n",
       "      <td>1</td>\n",
       "      <td>0</td>\n",
       "      <td>0</td>\n",
       "      <td>0</td>\n",
       "      <td>0.0</td>\n",
       "      <td>0.0</td>\n",
       "      <td>24909.4500</td>\n",
       "    </tr>\n",
       "    <tr>\n",
       "      <th>3</th>\n",
       "      <td>NSW4</td>\n",
       "      <td>1</td>\n",
       "      <td>27</td>\n",
       "      <td>11</td>\n",
       "      <td>1</td>\n",
       "      <td>0</td>\n",
       "      <td>0</td>\n",
       "      <td>1</td>\n",
       "      <td>0.0</td>\n",
       "      <td>0.0</td>\n",
       "      <td>7506.1460</td>\n",
       "    </tr>\n",
       "    <tr>\n",
       "      <th>4</th>\n",
       "      <td>NSW5</td>\n",
       "      <td>1</td>\n",
       "      <td>33</td>\n",
       "      <td>8</td>\n",
       "      <td>1</td>\n",
       "      <td>0</td>\n",
       "      <td>0</td>\n",
       "      <td>1</td>\n",
       "      <td>0.0</td>\n",
       "      <td>0.0</td>\n",
       "      <td>289.7899</td>\n",
       "    </tr>\n",
       "  </tbody>\n",
       "</table>\n",
       "</div>"
      ],
      "text/plain": [
       "     ID  treat  age  educ  black  hispan  married  nodegree  re74  re75  \\\n",
       "0  NSW1      1   37    11      1       0        1         1   0.0   0.0   \n",
       "1  NSW2      1   22     9      0       1        0         1   0.0   0.0   \n",
       "2  NSW3      1   30    12      1       0        0         0   0.0   0.0   \n",
       "3  NSW4      1   27    11      1       0        0         1   0.0   0.0   \n",
       "4  NSW5      1   33     8      1       0        0         1   0.0   0.0   \n",
       "\n",
       "         re78  \n",
       "0   9930.0460  \n",
       "1   3595.8940  \n",
       "2  24909.4500  \n",
       "3   7506.1460  \n",
       "4    289.7899  "
      ]
     },
     "execution_count": 62,
     "metadata": {},
     "output_type": "execute_result"
    }
   ],
   "source": [
    "df.head()"
   ]
  },
  {
   "cell_type": "code",
   "execution_count": 63,
   "id": "57554208-14ab-4d19-985f-a4e54b050464",
   "metadata": {},
   "outputs": [],
   "source": [
    "OUTCOME = 're78'\n",
    "TREAT = 'treat'\n",
    "PROP_MODEL = 'prop_model_yhat'\n",
    "VARS = ['age', 'educ', 'black', 'hispan', 'married', 'nodegree', 're74', 're75']"
   ]
  },
  {
   "cell_type": "markdown",
   "id": "a3737859-39fa-40f4-8875-ab1c7e285cae",
   "metadata": {},
   "source": [
    "### Question 1\n",
    "\n",
    "Find the standardized differences for all of the confounding variables (pre-matching). What is the standardized difference for married (to nearest hundredth)?    "
   ]
  },
  {
   "cell_type": "code",
   "execution_count": 64,
   "id": "6ca8556f-fcaa-42c1-9843-510226202412",
   "metadata": {},
   "outputs": [],
   "source": [
    "def standardized_difference(pre: pd.Series, post: pd.Series) -> float:\n",
    "    return abs(post.mean() - pre.mean()) / ((post.std() + pre.std()) / 2)"
   ]
  },
  {
   "cell_type": "code",
   "execution_count": 65,
   "id": "6d2a2817-4e89-45f1-8784-f65e6ba90003",
   "metadata": {},
   "outputs": [],
   "source": [
    "def standardized_difference_all_cols(df: pd.DataFrame, treat_col: str, var_cols: List[str]) -> pd.Series:\n",
    "    pre_treat_df = df[df[treat_col] == 1].reset_index(drop=True)\n",
    "    post_treat_df = df[df[treat_col] == 0].reset_index(drop=True)\n",
    "    \n",
    "    all_var_std_diff = {}\n",
    "    for var in var_cols:\n",
    "        var_std_diff = standardized_difference(pre_treat_df[var], post_treat_df[var])\n",
    "        all_var_std_diff[var] = var_std_diff\n",
    "        \n",
    "    return pd.Series(all_var_std_diff)"
   ]
  },
  {
   "cell_type": "code",
   "execution_count": 66,
   "id": "9d0e2cd5-f85d-4bdc-b88b-0bb7fb70b328",
   "metadata": {},
   "outputs": [
    {
     "data": {
      "text/plain": [
       "age         0.25\n",
       "educ        0.05\n",
       "black       1.67\n",
       "hispan      0.28\n",
       "married     0.72\n",
       "nodegree    0.24\n",
       "re74        0.60\n",
       "re75        0.29\n",
       "dtype: float64"
      ]
     },
     "execution_count": 66,
     "metadata": {},
     "output_type": "execute_result"
    }
   ],
   "source": [
    "standardized_difference_all_cols(df, TREAT, VARS).round(2)"
   ]
  },
  {
   "cell_type": "markdown",
   "id": "ea64610c-c6a5-482a-b9fb-8a0e13847b3b",
   "metadata": {},
   "source": [
    "### Question 2\n",
    "\n",
    "What is the raw (unadjusted) mean of real earnings in 1978 for treated subjects minus the mean of real earnings in 1978 for untreated subjects? "
   ]
  },
  {
   "cell_type": "code",
   "execution_count": 67,
   "id": "d86c8842-d169-4530-9289-a43289aebe9b",
   "metadata": {},
   "outputs": [
    {
     "data": {
      "text/plain": [
       "-635.0262120374209"
      ]
     },
     "execution_count": 67,
     "metadata": {},
     "output_type": "execute_result"
    }
   ],
   "source": [
    "df.loc[df[TREAT] == 1, OUTCOME].mean() - df.loc[df[TREAT] == 0, OUTCOME].mean()"
   ]
  },
  {
   "cell_type": "markdown",
   "id": "0f4caa55-1bed-4d01-bbd8-29e66d81fe8f",
   "metadata": {},
   "source": [
    "### Question 3\n",
    "\n",
    "Fit a propensity score model. Use a logistic regression model, where the outcome is treatment. Include the 8 confounding variables in the model as predictors, with no interaction terms or non-linear terms (such as squared terms). Obtain the propensity score for each subject.\n",
    "\n",
    "What are the minimum and maximum values of the estimated propensity score?"
   ]
  },
  {
   "cell_type": "code",
   "execution_count": 84,
   "id": "09155279-dde9-48fc-998a-3371d2a7d21f",
   "metadata": {},
   "outputs": [
    {
     "name": "stdout",
     "output_type": "stream",
     "text": [
      "Optimization terminated successfully.\n",
      "         Current function value: 0.397267\n",
      "         Iterations 7\n"
     ]
    },
    {
     "name": "stderr",
     "output_type": "stream",
     "text": [
      "/Users/giuliano.ferrari/Documents/Other/causality-crash-course/python/.env/lib/python3.9/site-packages/statsmodels/tsa/tsatools.py:142: FutureWarning: In a future version of pandas all arguments of concat except for the argument 'objs' will be keyword-only\n",
      "  x = pd.concat(x[::order], 1)\n"
     ]
    },
    {
     "data": {
      "text/html": [
       "<table class=\"simpletable\">\n",
       "<caption>Logit Regression Results</caption>\n",
       "<tr>\n",
       "  <th>Dep. Variable:</th>         <td>treat</td>      <th>  No. Observations:  </th>  <td>   614</td>  \n",
       "</tr>\n",
       "<tr>\n",
       "  <th>Model:</th>                 <td>Logit</td>      <th>  Df Residuals:      </th>  <td>   605</td>  \n",
       "</tr>\n",
       "<tr>\n",
       "  <th>Method:</th>                 <td>MLE</td>       <th>  Df Model:          </th>  <td>     8</td>  \n",
       "</tr>\n",
       "<tr>\n",
       "  <th>Date:</th>            <td>Sat, 18 Sep 2021</td> <th>  Pseudo R-squ.:     </th>  <td>0.3508</td>  \n",
       "</tr>\n",
       "<tr>\n",
       "  <th>Time:</th>                <td>20:39:33</td>     <th>  Log-Likelihood:    </th> <td> -243.92</td> \n",
       "</tr>\n",
       "<tr>\n",
       "  <th>converged:</th>             <td>True</td>       <th>  LL-Null:           </th> <td> -375.75</td> \n",
       "</tr>\n",
       "<tr>\n",
       "  <th>Covariance Type:</th>     <td>nonrobust</td>    <th>  LLR p-value:       </th> <td>2.194e-52</td>\n",
       "</tr>\n",
       "</table>\n",
       "<table class=\"simpletable\">\n",
       "<tr>\n",
       "      <td></td>        <th>coef</th>     <th>std err</th>      <th>z</th>      <th>P>|z|</th>  <th>[0.025</th>    <th>0.975]</th>  \n",
       "</tr>\n",
       "<tr>\n",
       "  <th>const</th>    <td>   -4.7286</td> <td>    1.017</td> <td>   -4.649</td> <td> 0.000</td> <td>   -6.722</td> <td>   -2.735</td>\n",
       "</tr>\n",
       "<tr>\n",
       "  <th>age</th>      <td>    0.0158</td> <td>    0.014</td> <td>    1.162</td> <td> 0.245</td> <td>   -0.011</td> <td>    0.042</td>\n",
       "</tr>\n",
       "<tr>\n",
       "  <th>educ</th>     <td>    0.1613</td> <td>    0.065</td> <td>    2.477</td> <td> 0.013</td> <td>    0.034</td> <td>    0.289</td>\n",
       "</tr>\n",
       "<tr>\n",
       "  <th>black</th>    <td>    3.0654</td> <td>    0.287</td> <td>   10.698</td> <td> 0.000</td> <td>    2.504</td> <td>    3.627</td>\n",
       "</tr>\n",
       "<tr>\n",
       "  <th>hispan</th>   <td>    0.9836</td> <td>    0.426</td> <td>    2.311</td> <td> 0.021</td> <td>    0.149</td> <td>    1.818</td>\n",
       "</tr>\n",
       "<tr>\n",
       "  <th>married</th>  <td>   -0.8321</td> <td>    0.290</td> <td>   -2.866</td> <td> 0.004</td> <td>   -1.401</td> <td>   -0.263</td>\n",
       "</tr>\n",
       "<tr>\n",
       "  <th>nodegree</th> <td>    0.7073</td> <td>    0.338</td> <td>    2.095</td> <td> 0.036</td> <td>    0.045</td> <td>    1.369</td>\n",
       "</tr>\n",
       "<tr>\n",
       "  <th>re74</th>     <td>-7.178e-05</td> <td> 2.87e-05</td> <td>   -2.497</td> <td> 0.013</td> <td>   -0.000</td> <td>-1.54e-05</td>\n",
       "</tr>\n",
       "<tr>\n",
       "  <th>re75</th>     <td> 5.345e-05</td> <td> 4.63e-05</td> <td>    1.153</td> <td> 0.249</td> <td>-3.74e-05</td> <td>    0.000</td>\n",
       "</tr>\n",
       "</table>"
      ],
      "text/plain": [
       "<class 'statsmodels.iolib.summary.Summary'>\n",
       "\"\"\"\n",
       "                           Logit Regression Results                           \n",
       "==============================================================================\n",
       "Dep. Variable:                  treat   No. Observations:                  614\n",
       "Model:                          Logit   Df Residuals:                      605\n",
       "Method:                           MLE   Df Model:                            8\n",
       "Date:                Sat, 18 Sep 2021   Pseudo R-squ.:                  0.3508\n",
       "Time:                        20:39:33   Log-Likelihood:                -243.92\n",
       "converged:                       True   LL-Null:                       -375.75\n",
       "Covariance Type:            nonrobust   LLR p-value:                 2.194e-52\n",
       "==============================================================================\n",
       "                 coef    std err          z      P>|z|      [0.025      0.975]\n",
       "------------------------------------------------------------------------------\n",
       "const         -4.7286      1.017     -4.649      0.000      -6.722      -2.735\n",
       "age            0.0158      0.014      1.162      0.245      -0.011       0.042\n",
       "educ           0.1613      0.065      2.477      0.013       0.034       0.289\n",
       "black          3.0654      0.287     10.698      0.000       2.504       3.627\n",
       "hispan         0.9836      0.426      2.311      0.021       0.149       1.818\n",
       "married       -0.8321      0.290     -2.866      0.004      -1.401      -0.263\n",
       "nodegree       0.7073      0.338      2.095      0.036       0.045       1.369\n",
       "re74       -7.178e-05   2.87e-05     -2.497      0.013      -0.000   -1.54e-05\n",
       "re75        5.345e-05   4.63e-05      1.153      0.249   -3.74e-05       0.000\n",
       "==============================================================================\n",
       "\"\"\""
      ]
     },
     "execution_count": 84,
     "metadata": {},
     "output_type": "execute_result"
    }
   ],
   "source": [
    "propensity_model = sm.Logit(df[TREAT], sm.add_constant(df[VARS])).fit()\n",
    "propensity_model.summary()"
   ]
  },
  {
   "cell_type": "code",
   "execution_count": 87,
   "id": "b88a2396-50cb-4737-b6eb-7d6ac58ef634",
   "metadata": {},
   "outputs": [
    {
     "name": "stderr",
     "output_type": "stream",
     "text": [
      "/Users/giuliano.ferrari/Documents/Other/causality-crash-course/python/.env/lib/python3.9/site-packages/statsmodels/tsa/tsatools.py:142: FutureWarning: In a future version of pandas all arguments of concat except for the argument 'objs' will be keyword-only\n",
      "  x = pd.concat(x[::order], 1)\n"
     ]
    }
   ],
   "source": [
    "df[PROP_MODEL] = propensity_model.predict(sm.add_constant(df[VARS]))"
   ]
  },
  {
   "cell_type": "code",
   "execution_count": 88,
   "id": "8e077497-d135-4673-bf01-dc995eb77646",
   "metadata": {},
   "outputs": [
    {
     "data": {
      "text/plain": [
       "(0.009080192945777365, 0.8531528452105871)"
      ]
     },
     "execution_count": 88,
     "metadata": {},
     "output_type": "execute_result"
    }
   ],
   "source": [
    "df[PROP_MODEL].min(), df[PROP_MODEL].max()"
   ]
  },
  {
   "cell_type": "markdown",
   "id": "6dd7f30e-3f41-4228-9203-dfc7dc394fdf",
   "metadata": {
    "tags": []
   },
   "source": [
    "### Question 4\n",
    "\n",
    "Now carry out propensity score matching using the Match function. \n",
    "\n",
    "Before using the Match function, first do:\n",
    "\n",
    "```\n",
    "set.seed(931139)\n",
    "```\n",
    "\n",
    "Setting the seed will ensure that you end up with a matched data set that is the same as the one used to create the solutions.\n",
    "\n",
    "Use options to specify pair matching, without replacement, no caliper. \n",
    "\n",
    "Match on the propensity score itself, not logit of the propensity score. Obtain the standardized differences for the matched data.\n",
    "\n",
    "What is the standardized difference for married?     "
   ]
  },
  {
   "cell_type": "code",
   "execution_count": 164,
   "id": "b2f4044e-887e-4326-80c1-5903e9f7d148",
   "metadata": {},
   "outputs": [],
   "source": [
    "from sklearn.utils import shuffle\n"
   ]
  },
  {
   "cell_type": "code",
   "execution_count": 185,
   "id": "24a51c1b-4f3f-453c-b08c-b5fe7b4bd4dc",
   "metadata": {},
   "outputs": [],
   "source": [
    "def pair_match(df: pd.DataFrame, score_col: str, treat_col: str) -> pd.DataFrame:\n",
    "    treated_df = shuffle(df[df[treat_col] == 1]).reset_index(drop=True)\n",
    "    not_treated_df = shuffle(df[df[treat_col] == 0]).reset_index(drop=True)\n",
    "    full_df = treated_df.copy()\n",
    "\n",
    "    for score in treated_df[score_col].values:        \n",
    "        idxmin = (score - not_treated_df[score_col]).abs().idxmin()\n",
    "        full_df = full_df.append(not_treated_df.loc[idxmin], ignore_index=True)\n",
    "        not_treated_df = not_treated_df.drop(index=[idxmin])\n",
    "    \n",
    "    return full_df"
   ]
  },
  {
   "cell_type": "code",
   "execution_count": 186,
   "id": "9410da31-b012-40ff-b31b-07170f0ab21d",
   "metadata": {},
   "outputs": [
    {
     "data": {
      "text/plain": [
       "age         0.058\n",
       "educ        0.111\n",
       "black       0.862\n",
       "hispan      0.482\n",
       "married     0.054\n",
       "nodegree    0.150\n",
       "re74        0.054\n",
       "re75        0.028\n",
       "dtype: float64"
      ]
     },
     "execution_count": 186,
     "metadata": {},
     "output_type": "execute_result"
    }
   ],
   "source": [
    "matched_df = pair_match(df, PROP_MODEL, TREAT)\n",
    "standardized_difference_all_cols(matched_df, TREAT, VARS).round(3)"
   ]
  },
  {
   "cell_type": "markdown",
   "id": "6dff0ad5-2ec5-46d3-af51-888b81ef5184",
   "metadata": {},
   "source": [
    "### Question 6\n",
    "\n",
    "Re-do the matching, but use a caliper this time. Set the caliper=0.1 in the options in the Match function.\n",
    "\n",
    "Again, before running the Match function, set the seed:\n",
    "\n",
    "```\n",
    "set.seed(931139)\n",
    "```\n",
    "\n",
    "How many matched pairs are there? "
   ]
  },
  {
   "cell_type": "code",
   "execution_count": 108,
   "id": "3b7d3573-f22b-4b1a-a242-9dde8212454b",
   "metadata": {},
   "outputs": [],
   "source": [
    "def pair_match(df: pd.DataFrame, score_col: str, treat_col: str, caliper=None) -> pd.DataFrame:\n",
    "    treated_df = df[df[treat_col] == 1].sample(frac=1.).reset_index(drop=True)\n",
    "    not_treated_df = df[df[treat_col] == 0].sample(frac=1.).reset_index(drop=True)\n",
    "    full_df = pd.DataFrame({})\n",
    "\n",
    "    for i, row in treated_df.iterrows():\n",
    "        score_diffs = (row[score_col] - not_treated_df[score_col]).abs()\n",
    "        if caliper and score_diffs.min() > caliper:\n",
    "            continue\n",
    "        idxmin = score_diffs.idxmin()\n",
    "        full_df = full_df.append(row, ignore_index=True)\n",
    "        full_df = full_df.append(not_treated_df.loc[idxmin], ignore_index=True)\n",
    "        not_treated_df = not_treated_df.drop(index=[idxmin])\n",
    "    \n",
    "    return full_df"
   ]
  },
  {
   "cell_type": "code",
   "execution_count": 109,
   "id": "9b7a306c-cd82-4c3a-9182-e85a6f3b4103",
   "metadata": {},
   "outputs": [],
   "source": [
    "matched_caliper_df = pair_match(df, PROP_MODEL, TREAT, .1)"
   ]
  },
  {
   "cell_type": "code",
   "execution_count": 112,
   "id": "02778e2e-f658-44c0-a232-a87e59b33208",
   "metadata": {},
   "outputs": [
    {
     "data": {
      "text/plain": [
       "228"
      ]
     },
     "execution_count": 112,
     "metadata": {},
     "output_type": "execute_result"
    }
   ],
   "source": [
    "len(matched_caliper_df)"
   ]
  },
  {
   "cell_type": "markdown",
   "id": "3f9e9e08-0071-4f55-ab4c-d5e7de81298f",
   "metadata": {},
   "source": [
    "### Question 7\n",
    "\n",
    "Use the matched data set (from propensity score matching with caliper=0.1) to carry out the outcome analysis. \n",
    "\n",
    "For the matched data, what is the mean of real earnings in 1978 for treated subjects minus the mean of real earnings in 1978 for untreated subjects? "
   ]
  },
  {
   "cell_type": "code",
   "execution_count": 113,
   "id": "3a51172a-89d8-4145-93d4-70d84c5db4aa",
   "metadata": {},
   "outputs": [
    {
     "data": {
      "text/plain": [
       "1747.5399390350858"
      ]
     },
     "execution_count": 113,
     "metadata": {},
     "output_type": "execute_result"
    }
   ],
   "source": [
    "matched_caliper_df.loc[matched_caliper_df[TREAT] == 1, OUTCOME].mean() - matched_caliper_df.loc[matched_caliper_df[TREAT] == 0, OUTCOME].mean()"
   ]
  },
  {
   "cell_type": "markdown",
   "id": "478302f8-b197-4e4e-8df3-fbc872c1d12e",
   "metadata": {},
   "source": [
    "### Question 8\n",
    "\n",
    "Use the matched data set (from propensity score matching with caliper=0.1) to carry out the outcome analysis.\n",
    "\n",
    "Carry out a paired t-test for the effect of treatment on earnings. What are the values of the 95% confidence interval?"
   ]
  },
  {
   "cell_type": "code",
   "execution_count": 60,
   "id": "af99aa51-8ca8-4ca6-8e6f-4ccdc50fdfbd",
   "metadata": {},
   "outputs": [
    {
     "data": {
      "text/plain": [
       "Ttest_relResult(statistic=1.6129600517609903, pvalue=0.10954255057673892)"
      ]
     },
     "execution_count": 60,
     "metadata": {},
     "output_type": "execute_result"
    }
   ],
   "source": [
    "ttest_rel(matched_caliper_df.loc[matched_caliper_df[TREAT] == 1, OUTCOME], matched_caliper_df.loc[matched_caliper_df[TREAT] == 0, OUTCOME])"
   ]
  }
 ],
 "metadata": {
  "kernelspec": {
   "display_name": "Python 3 (ipykernel)",
   "language": "python",
   "name": "python3"
  },
  "language_info": {
   "codemirror_mode": {
    "name": "ipython",
    "version": 3
   },
   "file_extension": ".py",
   "mimetype": "text/x-python",
   "name": "python",
   "nbconvert_exporter": "python",
   "pygments_lexer": "ipython3",
   "version": "3.9.6"
  }
 },
 "nbformat": 4,
 "nbformat_minor": 5
}
